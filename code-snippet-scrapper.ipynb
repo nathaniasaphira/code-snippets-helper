{
 "cells": [
  {
   "cell_type": "code",
   "execution_count": 1,
   "id": "88a89f1e-c93e-4824-9992-ac586b8fedd6",
   "metadata": {
    "tags": []
   },
   "outputs": [],
   "source": [
    "from urllib.request import urlopen\n",
    "from bs4 import BeautifulSoup\n",
    "import markdownify\n",
    "import pandas as pd"
   ]
  },
  {
   "cell_type": "code",
   "execution_count": 2,
   "id": "cba447ed-b82c-4bd9-8aa4-263a523281cc",
   "metadata": {
    "tags": []
   },
   "outputs": [],
   "source": [
    "url = \"<<url-link>>\"\n",
    "\n",
    "# Open the url file\n",
    "file = urlopen(url)\n",
    "filebytes = file.read()\n",
    "\n",
    "# get full html of the url with BeautifulSoup\n",
    "html = BeautifulSoup(filebytes, features=\"html.parser\")\n",
    "for script in html([\"script\"]):\n",
    "    script.extract()\n",
    "\n",
    "file.close()"
   ]
  },
  {
   "cell_type": "code",
   "execution_count": 3,
   "id": "94e3b872-dfbb-4082-ba70-e845344c2c0a",
   "metadata": {
    "tags": []
   },
   "outputs": [],
   "source": [
    "# convert html to markdown\n",
    "md = markdownify.markdownify(str(html))\n",
    "\n",
    "# text to dataframe\n",
    "df = pd.DataFrame(md.splitlines())"
   ]
  },
  {
   "cell_type": "code",
   "execution_count": 4,
   "id": "ef4937cb-5b3f-4dea-a440-eb0e285d4c37",
   "metadata": {},
   "outputs": [],
   "source": [
    "# find all ``` syntax indexes\n",
    "codeblock = df.loc[df[0] == \"```\"]\n",
    "indexlist = codeblock.index\n",
    "\n",
    "# get all code snippets and store them in a list\n",
    "codesnippet = []\n",
    "for index in range(0, len(indexlist), 2):\n",
    "    start = indexlist[index] + 1\n",
    "    stop = indexlist[index+1]\n",
    "    codesnippet.append(df[start:stop])"
   ]
  },
  {
   "cell_type": "code",
   "execution_count": 5,
   "id": "05a0b79f-9f22-4008-b4d7-2bb969a5b6a8",
   "metadata": {
    "tags": []
   },
   "outputs": [],
   "source": [
    "# default output filename: last id of url path\n",
    "filename = url.split('/')[-1]\n",
    "fileextension = '.cs'\n",
    "filepath = 'output/' + filename + fileextension\n",
    "\n",
    "outfile = open(filepath, 'w')\n",
    "\n",
    "for index, code in enumerate(codesnippet):\n",
    "    codetext = code[0].str.cat(sep='\\n')\n",
    "    \n",
    "    if index != 0: outfile.write(\"\\n\")\n",
    "    outfile.write(\"%s\" % codetext)\n",
    "    \n",
    "outfile.close()"
   ]
  },
  {
   "cell_type": "code",
   "execution_count": 6,
   "id": "2d1f8031-f66e-4584-9125-3610ba3a71cf",
   "metadata": {
    "tags": []
   },
   "outputs": [],
   "source": [
    "df.to_csv('output/' + filename + '.csv')"
   ]
  }
 ],
 "metadata": {
  "kernelspec": {
   "display_name": "Python 3 (ipykernel)",
   "language": "python",
   "name": "python3"
  },
  "language_info": {
   "codemirror_mode": {
    "name": "ipython",
    "version": 3
   },
   "file_extension": ".py",
   "mimetype": "text/x-python",
   "name": "python",
   "nbconvert_exporter": "python",
   "pygments_lexer": "ipython3",
   "version": "3.12.2"
  }
 },
 "nbformat": 4,
 "nbformat_minor": 5
}
