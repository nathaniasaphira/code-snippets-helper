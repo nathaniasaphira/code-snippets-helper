{
 "cells": [
  {
   "cell_type": "code",
   "execution_count": 1,
   "id": "dd25a91b-b242-4c9e-bf71-06d6ff8f50ca",
   "metadata": {
    "tags": []
   },
   "outputs": [],
   "source": [
    "import pandas as pd"
   ]
  },
  {
   "cell_type": "code",
   "execution_count": 2,
   "id": "e647561f-740a-46b2-8e78-756f50f6b347",
   "metadata": {
    "tags": []
   },
   "outputs": [],
   "source": [
    "file1_name = 'input1.cs'\n",
    "file1_path = 'input/' + file1_name\n",
    "\n",
    "file1 = open(file1_path, 'r')\n",
    "file1_text = file1.read()\n",
    "file1.close()"
   ]
  },
  {
   "cell_type": "code",
   "execution_count": 20,
   "id": "54d387fd-113c-40d2-9f97-7b94f6edf013",
   "metadata": {
    "tags": []
   },
   "outputs": [],
   "source": [
    "file2_name = 'input2.cs'\n",
    "file2_path = 'input/' + file2_name\n",
    "\n",
    "file2 = open(file2_path, 'r')\n",
    "file2_text = file2.read()\n",
    "file2.close()"
   ]
  },
  {
   "cell_type": "code",
   "execution_count": 21,
   "id": "d3de15c0-6f61-4cb2-b866-029b70bb34b2",
   "metadata": {
    "tags": []
   },
   "outputs": [
    {
     "data": {
      "text/html": [
       "<div>\n",
       "<style scoped>\n",
       "    .dataframe tbody tr th:only-of-type {\n",
       "        vertical-align: middle;\n",
       "    }\n",
       "\n",
       "    .dataframe tbody tr th {\n",
       "        vertical-align: top;\n",
       "    }\n",
       "\n",
       "    .dataframe thead th {\n",
       "        text-align: right;\n",
       "    }\n",
       "</style>\n",
       "<table border=\"1\" class=\"dataframe\">\n",
       "  <thead>\n",
       "    <tr style=\"text-align: right;\">\n",
       "      <th></th>\n",
       "      <th>0</th>\n",
       "    </tr>\n",
       "  </thead>\n",
       "  <tbody>\n",
       "    <tr>\n",
       "      <th>0</th>\n",
       "      <td>using System;</td>\n",
       "    </tr>\n",
       "    <tr>\n",
       "      <th>1</th>\n",
       "      <td>using System.Collections;</td>\n",
       "    </tr>\n",
       "    <tr>\n",
       "      <th>2</th>\n",
       "      <td>using System.Collections.Generic;</td>\n",
       "    </tr>\n",
       "    <tr>\n",
       "      <th>3</th>\n",
       "      <td>using AccelByte.Core;</td>\n",
       "    </tr>\n",
       "    <tr>\n",
       "      <th>4</th>\n",
       "      <td>using AccelByte.Models;</td>\n",
       "    </tr>\n",
       "  </tbody>\n",
       "</table>\n",
       "</div>"
      ],
      "text/plain": [
       "                                   0\n",
       "0                      using System;\n",
       "1          using System.Collections;\n",
       "2  using System.Collections.Generic;\n",
       "3              using AccelByte.Core;\n",
       "4            using AccelByte.Models;"
      ]
     },
     "execution_count": 21,
     "metadata": {},
     "output_type": "execute_result"
    }
   ],
   "source": [
    "# text to dataframe\n",
    "df1 = pd.DataFrame(file1_text.splitlines())\n",
    "df1[:5]"
   ]
  },
  {
   "cell_type": "code",
   "execution_count": 22,
   "id": "8ce88768-b846-4070-bd9d-411dd2a710ec",
   "metadata": {
    "tags": []
   },
   "outputs": [
    {
     "data": {
      "text/html": [
       "<div>\n",
       "<style scoped>\n",
       "    .dataframe tbody tr th:only-of-type {\n",
       "        vertical-align: middle;\n",
       "    }\n",
       "\n",
       "    .dataframe tbody tr th {\n",
       "        vertical-align: top;\n",
       "    }\n",
       "\n",
       "    .dataframe thead th {\n",
       "        text-align: right;\n",
       "    }\n",
       "</style>\n",
       "<table border=\"1\" class=\"dataframe\">\n",
       "  <thead>\n",
       "    <tr style=\"text-align: right;\">\n",
       "      <th></th>\n",
       "      <th>0</th>\n",
       "    </tr>\n",
       "  </thead>\n",
       "  <tbody>\n",
       "    <tr>\n",
       "      <th>0</th>\n",
       "      <td>private LeaderboardEssentialsWrapper\\_Starter ...</td>\n",
       "    </tr>\n",
       "    <tr>\n",
       "      <th>1</th>\n",
       "      <td></td>\n",
       "    </tr>\n",
       "    <tr>\n",
       "      <th>2</th>\n",
       "      <td>private void Start()</td>\n",
       "    </tr>\n",
       "    <tr>\n",
       "      <th>3</th>\n",
       "      <td>{</td>\n",
       "    </tr>\n",
       "    <tr>\n",
       "      <th>4</th>\n",
       "      <td>...</td>\n",
       "    </tr>\n",
       "  </tbody>\n",
       "</table>\n",
       "</div>"
      ],
      "text/plain": [
       "                                                   0\n",
       "0  private LeaderboardEssentialsWrapper\\_Starter ...\n",
       "1                                                   \n",
       "2                               private void Start()\n",
       "3                                                  {\n",
       "4                                                ..."
      ]
     },
     "execution_count": 22,
     "metadata": {},
     "output_type": "execute_result"
    }
   ],
   "source": [
    "# text to dataframe\n",
    "df2 = pd.DataFrame(file2_text.splitlines())\n",
    "# remove spaces\n",
    "df2[0] = df2[0].apply(lambda code: code.strip())\n",
    "df2[:5]"
   ]
  },
  {
   "cell_type": "code",
   "execution_count": 23,
   "id": "39a7a022-16b2-40fe-9a75-a09f92b2936e",
   "metadata": {},
   "outputs": [],
   "source": [
    "# search code per line\n",
    "def search(desiredCode, df):\n",
    "    if '{' in desiredCode or '}' in desiredCode or desiredCode == '':\n",
    "        #print(desiredCode)    \n",
    "        return None\n",
    "    for index, code in enumerate(df[0]):\n",
    "        if desiredCode in code:\n",
    "            #print(desiredCode)\n",
    "            return index\n",
    "    return None\n",
    "\n",
    "df1_same_index = []\n",
    "df2_same_index = []\n",
    "for index, code in enumerate(df2[0]):\n",
    "    found_index = search(code, df1)\n",
    "    if found_index != None:\n",
    "        df1_same_index.append(found_index)\n",
    "        df2_same_index.append(index)\n",
    "    #print(found_index)"
   ]
  },
  {
   "cell_type": "code",
   "execution_count": 24,
   "id": "77bf9d0b-dc16-4597-a062-a9e19d559984",
   "metadata": {
    "tags": []
   },
   "outputs": [],
   "source": [
    "outdf1 = df1.copy()\n",
    "outdf2 = df2.copy()\n",
    "\n",
    "for index in df1_same_index:\n",
    "    outdf1.loc[index, 0] = '//' + df1[0][index]\n",
    "    \n",
    "for index in df2_same_index:\n",
    "    outdf2.loc[index, 0] = '//' + df2[0][index]"
   ]
  },
  {
   "cell_type": "code",
   "execution_count": 25,
   "id": "4e9d61e0-b721-477f-846c-3cbe7afd0f49",
   "metadata": {
    "tags": []
   },
   "outputs": [],
   "source": [
    "filepath1 = 'output/comparator/out1_' + file1_name\n",
    "\n",
    "outfile1 = open(filepath1, 'w')\n",
    "codetext1 = outdf1[0].str.cat(sep='\\n')\n",
    "outfile1.write(\"%s\" % codetext1)\n",
    "outfile1.close()"
   ]
  },
  {
   "cell_type": "code",
   "execution_count": 26,
   "id": "7e6af66a-14d2-4692-a28d-36e78764e21c",
   "metadata": {
    "tags": []
   },
   "outputs": [],
   "source": [
    "filepath2 = 'output/comparator/out2_' + file2_name\n",
    "\n",
    "outfile2 = open(filepath2, 'w')\n",
    "codetext2 = outdf2[0].str.cat(sep='\\n')\n",
    "outfile2.write(\"%s\" % codetext2)\n",
    "outfile2.close()"
   ]
  }
 ],
 "metadata": {
  "kernelspec": {
   "display_name": "Python 3 (ipykernel)",
   "language": "python",
   "name": "python3"
  },
  "language_info": {
   "codemirror_mode": {
    "name": "ipython",
    "version": 3
   },
   "file_extension": ".py",
   "mimetype": "text/x-python",
   "name": "python",
   "nbconvert_exporter": "python",
   "pygments_lexer": "ipython3",
   "version": "3.12.2"
  }
 },
 "nbformat": 4,
 "nbformat_minor": 5
}
