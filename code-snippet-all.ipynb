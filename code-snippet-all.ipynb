{
 "cells": [
  {
   "cell_type": "code",
   "execution_count": 150,
   "id": "5af6891a-dc16-404e-a193-4877d89c3e40",
   "metadata": {
    "tags": []
   },
   "outputs": [],
   "source": [
    "from urllib.request import urlopen\n",
    "from bs4 import BeautifulSoup\n",
    "import markdownify\n",
    "import pandas as pd"
   ]
  },
  {
   "cell_type": "code",
   "execution_count": 151,
   "id": "710b6549-0243-4a9b-9e5f-27c97174e6e4",
   "metadata": {
    "tags": []
   },
   "outputs": [],
   "source": [
    "def openFile(url):\n",
    "    # Open the url file\n",
    "    file = urlopen(url)\n",
    "    filebytes = file.read()\n",
    "\n",
    "    # get full html of the url with BeautifulSoup\n",
    "    html = BeautifulSoup(filebytes, features=\"html.parser\")\n",
    "    for script in html([\"script\"]):\n",
    "        script.extract()\n",
    "\n",
    "    file.close()\n",
    "    \n",
    "    return html\n",
    "\n",
    "def convertHTMLtoDF(htmlText):\n",
    "    # convert html to markdown\n",
    "    md = markdownify.markdownify(str(htmlText))\n",
    "\n",
    "    # text to dataframe\n",
    "    df = pd.DataFrame(md.splitlines())\n",
    "    \n",
    "    return df\n",
    "\n",
    "def getCodeSnippet(df):\n",
    "    # find all ``` syntax indexes\n",
    "    codeblock = df.loc[df[0] == \"```\"]\n",
    "    indexlist = codeblock.index\n",
    "\n",
    "    # get all code snippets and store them in a list\n",
    "    codesnippet = []\n",
    "    for index in range(0, len(indexlist), 2):\n",
    "        start = indexlist[index] + 1\n",
    "        stop = indexlist[index+1]\n",
    "        codesnippet.append(df[start:stop])\n",
    "    \n",
    "    return codesnippet\n",
    "\n",
    "def exportScrapOutput(url, df, codesnippet):\n",
    "    # default output filename: last id of url path\n",
    "    urlsplit = url.split('/')\n",
    "    filename = urlsplit[-2] + '-' + urlsplit[-1]\n",
    "    fileextension = '.cs'\n",
    "    filepath = 'output/' + filename + fileextension\n",
    "\n",
    "    outfile = open(filepath, 'w')\n",
    "\n",
    "    for index, code in enumerate(codesnippet):\n",
    "        codetext = code[0].str.cat(sep='\\n')\n",
    "\n",
    "        if index != 0: outfile.write(\"\\n\")\n",
    "        outfile.write(\"%s\" % codetext)\n",
    "\n",
    "    outfile.close()\n",
    "    \n",
    "    #df.to_csv('output/' + filename + '.csv')\n",
    "    \n",
    "    return filepath"
   ]
  },
  {
   "cell_type": "code",
   "execution_count": 152,
   "id": "9c408b34-aa08-4452-afb3-54c0181cb954",
   "metadata": {
    "tags": []
   },
   "outputs": [],
   "source": [
    "def handleFile(filepath):\n",
    "    file = open(filepath, 'r')\n",
    "    file_text = file.read()\n",
    "    file.close()\n",
    "    \n",
    "    df = pd.DataFrame(file_text.splitlines())\n",
    "    \n",
    "    return df\n",
    "    \n",
    "# search code per line\n",
    "def search(desiredCode, df):\n",
    "    desiredCode = desiredCode.strip()\n",
    "    if '{' in desiredCode or '}' in desiredCode or desiredCode == '':\n",
    "        #print(desiredCode)    \n",
    "        return None\n",
    "    for index, code in enumerate(df[0]):\n",
    "        #print(desiredCode, code)\n",
    "        if desiredCode in code:\n",
    "            return index\n",
    "    return None\n",
    "\n",
    "def compareDF(df1, df2):\n",
    "    df1_same_index = []\n",
    "    df2_same_index = []\n",
    "    \n",
    "    for index, code in enumerate(df2[0]):\n",
    "        found_index = search(code, df1)\n",
    "        print(found_index, index)\n",
    "        if found_index != None:\n",
    "            df1_same_index.append(found_index)\n",
    "            df2_same_index.append(index)\n",
    "    \n",
    "    return df1_same_index, df2_same_index\n",
    "\n",
    "def commentSameCode(df1, df1_same_index, df2, df2_same_index):\n",
    "    outdf1 = df1.copy()\n",
    "    outdf2 = df2.copy()\n",
    "\n",
    "    #print(len(df1_same_index))\n",
    "    for index in df1_same_index:\n",
    "        outdf1.loc[index, 0] = '//' + df1[0][index]\n",
    "\n",
    "    #print(len(df2_same_index))\n",
    "    for index in df2_same_index:\n",
    "        outdf2.loc[index, 0] = '//' + df2[0][index]\n",
    "        \n",
    "    return outdf1, outdf2\n",
    "\n",
    "def exportCompareOutput(filename, outdf, index):\n",
    "    filepath = 'output/comparator/out' + index + '_' + filename\n",
    "    outfile = open(filepath, 'w')\n",
    "    codetext = outdf[0].str.cat(sep='\\n')\n",
    "    outfile.write(\"%s\" % codetext)\n",
    "    outfile.close()\n",
    "    return filepath"
   ]
  },
  {
   "cell_type": "code",
   "execution_count": 153,
   "id": "23f6cfb6-11d8-4406-abdb-ca57b2e5071d",
   "metadata": {},
   "outputs": [],
   "source": [
    "def scrapper(url):\n",
    "    html = openFile(url)\n",
    "    df = convertHTMLtoDF(html)\n",
    "    codeList = getCodeSnippet(df)\n",
    "    outfilepath = exportScrapOutput(url, df, codeList)\n",
    "    \n",
    "    return outfilepath"
   ]
  },
  {
   "cell_type": "code",
   "execution_count": 154,
   "id": "af2fc8df-9120-4478-841d-48b9be9a17a1",
   "metadata": {},
   "outputs": [],
   "source": [
    "def comparator(filepath1, filepath2):\n",
    "    df1 = handleFile(filepath1)\n",
    "    df2 = handleFile(filepath2)\n",
    "    df1sameindex, df2sameindex = compareDF(df1, df2)\n",
    "    outdf1, outdf2 = commentSameCode(df1, df1sameindex, df2, df2sameindex)\n",
    "    \n",
    "    filename1 = filepath1.split('/')[-1]\n",
    "    outfilepath1 = exportCompareOutput(filename1, outdf1, '1')\n",
    "    filename2 = filepath2.split('/')[-1]\n",
    "    outfilepath2 = exportCompareOutput(filename2, outdf2, '2')\n",
    "    \n",
    "    return outfilepath1, outfilepath2"
   ]
  },
  {
   "cell_type": "code",
   "execution_count": 155,
   "id": "fb1dccbb-a4e5-4d86-82c1-bab7b3f8bfe5",
   "metadata": {},
   "outputs": [],
   "source": [
    "def main(urlFileList):\n",
    "    outInputFilePathList = {}\n",
    "    \n",
    "    for url, inputFile in urlFileList:\n",
    "        inputFilePath = 'input/' + inputFile\n",
    "        if inputFile in outInputFilePathList.keys():\n",
    "            print(\"--\", outInputFilePathList[inputFile])\n",
    "            inputFilePath = outInputFilePathList[inputFile]\n",
    "        \n",
    "        outpath = scrapper(url)\n",
    "        outfilepath1, outfilepath2 = comparator(outpath, inputFilePath)\n",
    "        \n",
    "        print(outpath, outfilepath2)\n",
    "        \n",
    "        outInputFilePathList.update({inputFile: outfilepath2})"
   ]
  },
  {
   "cell_type": "code",
   "execution_count": 156,
   "id": "64cf23f3-3788-4069-8eac-0753d090a232",
   "metadata": {
    "tags": []
   },
   "outputs": [
    {
     "name": "stdout",
     "output_type": "stream",
     "text": [
      "output/module-6-add-leaderboard-menu.cs output/comparator/out2_LeaderboardsMenu.cs\n",
      "output/module-6-add-leaderboard-menu.cs output/comparator/out2_LeaderboardsPeriodMenu.cs\n",
      "output/module-6-use-the-sdk-to-get-leaderboard.cs output/comparator/out2_LeaderboardEssentialsWrapper.cs\n",
      "-- output/comparator/out2_LeaderboardsMenu.cs\n",
      "output/module-6-put-it-all-together.cs output/comparator/out2_out2_LeaderboardsMenu.cs\n",
      "-- output/comparator/out2_LeaderboardsPeriodMenu.cs\n",
      "output/module-6-put-it-all-together.cs output/comparator/out2_out2_LeaderboardsPeriodMenu.cs\n",
      "output/module-6-put-it-all-together.cs output/comparator/out2_IndividualLeaderboardMenu.cs\n",
      "output/module-7-add-a-login-menu.cs output/comparator/out2_SinglePlatformAuthWrapper.cs\n",
      "-- output/comparator/out2_SinglePlatformAuthWrapper.cs\n",
      "output/module-7-use-sdk-to-login.cs output/comparator/out2_out2_SinglePlatformAuthWrapper.cs\n",
      "-- output/comparator/out2_out2_SinglePlatformAuthWrapper.cs\n",
      "output/module-7-put-it-all-together.cs output/comparator/out2_out2_out2_SinglePlatformAuthWrapper.cs\n"
     ]
    }
   ],
   "source": [
    "fileList = [['<<url-link>>', 'input2.cs']]\n",
    "\n",
    "main(fileList)"
   ]
  },
  {
   "cell_type": "code",
   "execution_count": null,
   "id": "d094e93f-6920-4423-a662-57585b2b2f68",
   "metadata": {},
   "outputs": [],
   "source": []
  }
 ],
 "metadata": {
  "kernelspec": {
   "display_name": "Python 3 (ipykernel)",
   "language": "python",
   "name": "python3"
  },
  "language_info": {
   "codemirror_mode": {
    "name": "ipython",
    "version": 3
   },
   "file_extension": ".py",
   "mimetype": "text/x-python",
   "name": "python",
   "nbconvert_exporter": "python",
   "pygments_lexer": "ipython3",
   "version": "3.12.2"
  }
 },
 "nbformat": 4,
 "nbformat_minor": 5
}
